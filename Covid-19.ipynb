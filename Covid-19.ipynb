{
 "cells": [
  {
   "cell_type": "markdown",
   "metadata": {},
   "source": [
    "# Covid-19 DataSet & Reports\n",
    "\n",
    "In the following I'm importing all the data and setting the pre-requisites for the analysis. The data is hosted by John Hopkins University and can be found in the link [here](https://github.com/CSSEGISandData/COVID-19). There are three files that contain **Total Confirmed Cases**, **Deaths** and **Recoveries**."
   ]
  },
  {
   "cell_type": "code",
   "execution_count": null,
   "metadata": {},
   "outputs": [],
   "source": [
    "## Import Libraries\n",
    "import numpy as np\n",
    "import pandas as pd\n",
    "import matplotlib.pyplot as plt\n",
    "from pandas.plotting import register_matplotlib_converters\n",
    "\n",
    "register_matplotlib_converters()\n",
    "#%matplotlib inline\n",
    "\n",
    "import plotly.express as px\n",
    "import plotly.io as pio\n",
    "import plotly.graph_objects as go\n",
    "from plotly.subplots import make_subplots\n",
    "\n",
    "plt.rcParams['figure.figsize'] = [15, 5]\n",
    "pio.templates.default = \"plotly_white\"\n",
    "\n",
    "from IPython import display\n",
    "from ipywidgets import interact, widgets"
   ]
  },
  {
   "cell_type": "code",
   "execution_count": null,
   "metadata": {},
   "outputs": [],
   "source": [
    "## Read Data for Cases, Deaths and Recoveries\n",
    "confirmed_raw = pd.read_csv('https://raw.githubusercontent.com/CSSEGISandData/COVID-19/master/csse_covid_19_data/csse_covid_19_time_series/time_series_covid19_confirmed_global.csv')\n",
    "deaths_raw = pd.read_csv('https://raw.githubusercontent.com/CSSEGISandData/COVID-19/master/csse_covid_19_data/csse_covid_19_time_series/time_series_covid19_deaths_global.csv')\n",
    "recoveries_raw = pd.read_csv('https://raw.githubusercontent.com/CSSEGISandData/COVID-19/master/csse_covid_19_data/csse_covid_19_time_series/time_series_covid19_recovered_global.csv')\n"
   ]
  },
  {
   "cell_type": "code",
   "execution_count": null,
   "metadata": {},
   "outputs": [],
   "source": [
    "confirmed_raw.head(10)"
   ]
  },
  {
   "cell_type": "code",
   "execution_count": null,
   "metadata": {},
   "outputs": [],
   "source": [
    "deaths_raw.head(10)"
   ]
  },
  {
   "cell_type": "code",
   "execution_count": null,
   "metadata": {},
   "outputs": [],
   "source": [
    "recoveries_raw.head(10)"
   ]
  },
  {
   "cell_type": "markdown",
   "metadata": {},
   "source": [
    "### Field description\n",
    "\n",
    "- **Province/State**: China - province name; US/Canada/Australia/ - city name, state/province name; Others - name of the event (e.g., \"Diamond Princess\" cruise ship); other countries - blank.\n",
    "- **Country/Region**: country/region name conforming to WHO (will be updated).\n",
    "- **Last Update**: MM/DD/YYYY HH:mm (24 hour format, in UTC).\n",
    "- **Confirmed**: the number of confirmed cases. For Hubei Province: from Feb 13 (GMT +8), we report both clinically diagnosed and lab-confirmed cases. For lab-confirmed cases only (Before Feb 17), please refer to who_covid_19_situation_reports. For Italy, diagnosis standard might be changed since Feb 27 to \"slow the growth of new case numbers.\" (Source)\n",
    "- **Deaths**: the number of deaths.\n",
    "- **Recovered**: the number of recovered cases."
   ]
  },
  {
   "cell_type": "markdown",
   "metadata": {},
   "source": [
    "The following is used to clean the datasets:"
   ]
  },
  {
   "cell_type": "code",
   "execution_count": null,
   "metadata": {},
   "outputs": [],
   "source": [
    "### Melt the dateframe into the right shape and set index\n",
    "def cleandata(df_raw):\n",
    "    df_cleaned=df_raw.melt(id_vars=['Province/State','Country/Region','Lat','Long'],value_name='Cases',var_name='Date')\n",
    "    df_cleaned=df_cleaned.set_index(['Country/Region','Province/State','Date'])\n",
    "    return df_cleaned \n",
    "\n",
    "# Clean all datasets\n",
    "confirmed = cleandata(confirmed_raw)\n",
    "deaths = cleandata(deaths_raw)\n",
    "recoveries = cleandata(recoveries_raw)"
   ]
  },
  {
   "cell_type": "code",
   "execution_count": null,
   "metadata": {},
   "outputs": [],
   "source": [
    "confirmed.head(10)"
   ]
  },
  {
   "cell_type": "markdown",
   "metadata": {},
   "source": [
    "## Country Level Data"
   ]
  },
  {
   "cell_type": "code",
   "execution_count": null,
   "metadata": {},
   "outputs": [],
   "source": [
    "### Get Countrywise Data\n",
    "def countrydata(df_cleaned,oldname,newname):\n",
    "    df_country = df_cleaned.groupby(['Country/Region','Date'])['Cases'].sum().reset_index()\n",
    "    df_country = df_country.set_index(['Country/Region','Date'])\n",
    "    df_country.index = df_country.index.set_levels([df_country.index.levels[0], pd.to_datetime(df_country.index.levels[1])])\n",
    "    df_country = df_country.sort_values(['Country/Region','Date'],ascending=True)\n",
    "    df_country = df_country.rename(columns={oldname:newname})\n",
    "    return df_country\n",
    "  \n",
    "confirmed_country = countrydata(confirmed,'Cases','Total Confirmed Cases')\n",
    "deaths_country = countrydata(deaths,'Cases','Total Deaths')\n",
    "recoveries_country = countrydata(recoveries,'Cases','Total Recoveries')"
   ]
  },
  {
   "cell_type": "markdown",
   "metadata": {},
   "source": [
    "Using the cumulative data provided, in the following some calculations are performed and added to the data set."
   ]
  },
  {
   "cell_type": "code",
   "execution_count": null,
   "metadata": {},
   "outputs": [],
   "source": [
    "### Get DailyData from Cumulative sum\n",
    "def dailydata(dfcountry,oldname,newname):\n",
    "    dfcountrydaily = dfcountry.groupby(level=0).diff().fillna(0)\n",
    "    dfcountrydaily = dfcountrydaily.rename(columns={oldname:newname})\n",
    "    return dfcountrydaily\n",
    "\n",
    "newcases_country = dailydata(confirmed_country,'Total Confirmed Cases','Daily New Cases')\n",
    "newdeaths_country = dailydata(deaths_country,'Total Deaths','Daily New Deaths')\n",
    "newrecoveries_country = dailydata(recoveries_country,'Total Recoveries','Daily New Recoveries')"
   ]
  },
  {
   "cell_type": "code",
   "execution_count": null,
   "metadata": {},
   "outputs": [],
   "source": [
    "country_consolidated = pd.merge(confirmed_country,newcases_country,how='left',left_index=True,right_index=True)\n",
    "country_consolidated = pd.merge(country_consolidated,newdeaths_country,how='left',left_index=True,right_index=True)\n",
    "country_consolidated = pd.merge(country_consolidated,deaths_country,how='left',left_index=True,right_index=True)\n",
    "country_consolidated = pd.merge(country_consolidated,recoveries_country,how='left',left_index=True,right_index=True)\n",
    "country_consolidated = pd.merge(country_consolidated,newrecoveries_country,how='left',left_index=True,right_index=True)"
   ]
  },
  {
   "cell_type": "markdown",
   "metadata": {},
   "source": [
    "In the following some additional calculated fields are added. In particular:\n",
    "\n",
    "$$\n",
    "\\textit{active_cases} = \\textit{confirmed} - \\textit{recoveries} - \\textit{deaths}\n",
    "$$"
   ]
  },
  {
   "cell_type": "code",
   "execution_count": null,
   "metadata": {},
   "outputs": [],
   "source": [
    "country_consolidated['Active Cases'] = country_consolidated['Total Confirmed Cases'] - country_consolidated['Total Deaths'] - country_consolidated['Total Recoveries']\n",
    "country_consolidated['Share of Recoveries - Closed Cases'] = np.round(country_consolidated['Total Recoveries'] / (country_consolidated['Total Recoveries'] + country_consolidated['Total Deaths']),2)\n",
    "country_consolidated['Death to Cases Ratio'] = np.round(country_consolidated['Total Deaths']/country_consolidated['Total Confirmed Cases'],3)\n",
    "\n",
    "country_consolidated.head(10)"
   ]
  },
  {
   "cell_type": "markdown",
   "metadata": {},
   "source": [
    "The following aggregates all the cases globally."
   ]
  },
  {
   "cell_type": "code",
   "execution_count": null,
   "metadata": {},
   "outputs": [],
   "source": [
    "## Get totals for all metrics\n",
    "global_tot = country_consolidated.reset_index().groupby('Date').sum()\n",
    "global_tot['Share of Recoveries - Closed Cases'] = np.round(global_tot['Total Recoveries'] / (global_tot['Total Recoveries'] + global_tot['Total Deaths']),2)\n",
    "global_tot['Death to Cases Ratio'] = np.round(global_tot['Total Deaths'] / global_tot['Total Confirmed Cases'],3)\n",
    "global_tot.tail(2)"
   ]
  },
  {
   "cell_type": "markdown",
   "metadata": {},
   "source": [
    "Main charts on global key metrics"
   ]
  },
  {
   "cell_type": "code",
   "execution_count": null,
   "metadata": {},
   "outputs": [],
   "source": [
    "# Create Plots that show Key Metrics For the Covid-19\n",
    "chartcol='red'\n",
    "fig = make_subplots(rows=3, cols=2,shared_xaxes=True,\n",
    "                    specs=[[{}, {}],[{},{}],\n",
    "                       [{\"colspan\": 2}, None]],\n",
    "                    subplot_titles=('Total Confirmed Cases','Active Cases','Deaths','Recoveries','Death to Cases Ratio'))\n",
    "fig.add_trace(go.Scatter(x=global_tot.index,y = global_tot['Total Confirmed Cases'],\n",
    "                         mode='lines+markers',\n",
    "                         name='Confirmed Cases',\n",
    "                         line=dict(color=chartcol,width=2)),\n",
    "                         row=1,col=1)\n",
    "\n",
    "fig.add_trace(go.Scatter(x=global_tot.index,y = global_tot['Active Cases'],\n",
    "                         mode='lines+markers',\n",
    "                         name='Active Cases',\n",
    "                         line=dict(color=chartcol,width=2)),\n",
    "                         row=1,col=2)\n",
    "\n",
    "fig.add_trace(go.Scatter(x=global_tot.index,y=global_tot['Total Deaths'],\n",
    "                         mode='lines+markers',\n",
    "                         name='Deaths',\n",
    "                         line=dict(color=chartcol,width=2)),\n",
    "                         row=2,col=1)\n",
    "\n",
    "fig.add_trace(go.Scatter(x=global_tot.index,y=global_tot['Total Recoveries'],\n",
    "                         mode='lines+markers',\n",
    "                         name='Recoveries',\n",
    "                         line=dict(color=chartcol,width=2)),\n",
    "                         row=2,col=2)\n",
    "\n",
    "fig.add_trace(go.Scatter(x=global_tot.index,y=global_tot['Death to Cases Ratio'],\n",
    "                         mode='lines+markers',\n",
    "                         line=dict(color=chartcol,width=2)),\n",
    "                         row=3,col=1)\n",
    "\n",
    "fig.update_layout(showlegend=False)"
   ]
  },
  {
   "cell_type": "code",
   "execution_count": null,
   "metadata": {},
   "outputs": [],
   "source": [
    "df_countries = country_consolidated.groupby(['Country/Region', 'Date']).sum().reset_index().sort_values('Date', ascending=False)\n",
    "df_countries = df_countries.drop_duplicates(subset = ['Country/Region'])\n",
    "df_countries = df_countries[df_countries['Total Confirmed Cases']>0]\n",
    "\n",
    "df_countries.head(10)"
   ]
  },
  {
   "cell_type": "code",
   "execution_count": null,
   "metadata": {},
   "outputs": [],
   "source": [
    "last_date = df_countries['Date'].max()\n",
    "last_date"
   ]
  },
  {
   "cell_type": "code",
   "execution_count": null,
   "metadata": {
    "scrolled": false
   },
   "outputs": [],
   "source": [
    "fig = go.Figure(data=go.Choropleth(\n",
    "    locations = df_countries['Country/Region'],\n",
    "    locationmode = 'country names',\n",
    "    z = np.log10(df_countries['Total Confirmed Cases']),\n",
    "    colorscale = 'Reds',\n",
    "    marker_line_color = 'black',\n",
    "    marker_line_width = 0.5,\n",
    "))\n",
    "fig.update_layout(\n",
    "    title_text = 'Confirmed Cases (logarithmic scale) as of ' + last_date.strftime(\"%d %B, %Y\"),\n",
    "    title_x = 0.5,\n",
    "    geo=dict(\n",
    "        showframe = False,\n",
    "        showcoastlines = False,\n",
    "        projection_type = 'equirectangular'\n",
    "    )\n",
    ")"
   ]
  },
  {
   "cell_type": "markdown",
   "metadata": {},
   "source": [
    "In the following, we dig deeper into the top twenty countries."
   ]
  },
  {
   "cell_type": "code",
   "execution_count": null,
   "metadata": {},
   "outputs": [],
   "source": [
    "tot_country = country_consolidated.max(level=0)['Total Confirmed Cases'].reset_index().set_index('Country/Region')\n",
    "tot_country = tot_country.sort_values(by='Total Confirmed Cases',ascending=False)\n",
    "tot_country_top20 = tot_country.head(20)"
   ]
  },
  {
   "cell_type": "code",
   "execution_count": null,
   "metadata": {},
   "outputs": [],
   "source": [
    "fig = go.Figure(go.Bar(x=tot_country_top20.index, y=tot_country_top20['Total Confirmed Cases'],\n",
    "                      text=tot_country_top20['Total Confirmed Cases'],\n",
    "            textposition='outside'))\n",
    "fig.update_layout(title_text='Top 20 Countries by Total Confirmed Cases Excluding China')\n",
    "fig.update_yaxes(showticklabels=False)\n",
    "\n",
    "fig.show()"
   ]
  },
  {
   "cell_type": "code",
   "execution_count": null,
   "metadata": {},
   "outputs": [],
   "source": [
    "df_countrydate = country_consolidated[country_consolidated.index.get_level_values(\"Country/Region\").isin(tot_country_top20.index.get_level_values(0))]\n",
    "df_countrydate = df_countrydate[[\"Total Confirmed Cases\"]]\n",
    "df_countrydate = df_countrydate.sort_values(by=[\"Date\",\"Total Confirmed Cases\"], ascending=[True, False]).reset_index()\n",
    "df_countrydate[\"Date\"] = df_countrydate[\"Date\"].dt.strftime(\"%y-%m-%d\")"
   ]
  },
  {
   "cell_type": "code",
   "execution_count": null,
   "metadata": {
    "scrolled": false
   },
   "outputs": [],
   "source": [
    "# Creating the visualization\n",
    "fig = px.bar(df_countrydate,\n",
    "                x=df_countrydate['Country/Region'],\n",
    "                y=df_countrydate['Total Confirmed Cases'], \n",
    "                animation_frame=\"Date\",\n",
    "                color=\"Country/Region\",\n",
    "                log_y=True,\n",
    "                orientation='v',\n",
    "                title=\"Global Spread of Coronavirus over Time by Country\"\n",
    "            ).update_xaxes(categoryorder='total descending')\n",
    "    \n",
    "fig.show()"
   ]
  },
  {
   "cell_type": "markdown",
   "metadata": {},
   "source": [
    "## Italy"
   ]
  },
  {
   "cell_type": "markdown",
   "metadata": {},
   "source": [
    "Now, let's see how the cases have grown over time in Italy."
   ]
  },
  {
   "cell_type": "code",
   "execution_count": null,
   "metadata": {},
   "outputs": [],
   "source": [
    "italy_first_case = country_consolidated.loc['Italy']['Total Confirmed Cases'].reset_index().set_index('Date')\n",
    "italy_growth = italy_first_case[italy_first_case.ne(0)].dropna().reset_index()\n",
    "\n",
    "italy_growth.head(10)"
   ]
  },
  {
   "cell_type": "code",
   "execution_count": null,
   "metadata": {},
   "outputs": [],
   "source": [
    "fig = go.Figure(go.Scatter(x=italy_growth[\"Date\"], y=italy_growth['Total Confirmed Cases'],\n",
    "                    text=italy_growth['Total Confirmed Cases'],\n",
    "                    mode='lines+markers',                    \n",
    "                    line=dict(color=chartcol,width=2),\n",
    "                    textposition='top left'))\n",
    "fig.update_layout(title_text='Total confirmed cases in Italy over time')\n",
    "fig.update_yaxes(showticklabels=False)\n",
    "\n",
    "fig.show()"
   ]
  },
  {
   "cell_type": "markdown",
   "metadata": {},
   "source": [
    "The **logistic model** has been widely used to describe the **growth of a population**. An infection can be described as the growth of the population of a pathogen agent, so a logistic model seems reasonable.\n",
    "\n",
    "The most generic expression of a logistic function is:\n",
    "\n",
    "$$\n",
    "f(x, a, b, c) = \\frac{c}{1 + e^{-(x-b)/a}}\n",
    "$$\n"
   ]
  },
  {
   "cell_type": "code",
   "execution_count": null,
   "metadata": {},
   "outputs": [],
   "source": [
    "from scipy.optimize import curve_fit\n",
    "\n",
    "def logistic(x, a, b, c):\n",
    "    return c / (1 + np.exp(-(x - b) / a))\n",
    "\n",
    "x = italy_growth.index\n",
    "y = italy_growth['Total Confirmed Cases']\n",
    "\n",
    "popt, pcov = curve_fit(logistic, x, y) #, p0=(1, 1e-6, 1))\n",
    "\n",
    "# xx = italy_growth.index\n",
    "xx = np.arange(200)\n",
    "yy = logistic(xx, *popt)"
   ]
  },
  {
   "cell_type": "markdown",
   "metadata": {},
   "source": [
    "The following values represent the parameters fitting the curve:"
   ]
  },
  {
   "cell_type": "code",
   "execution_count": null,
   "metadata": {},
   "outputs": [],
   "source": [
    "popt[0], popt[1], popt[2]"
   ]
  },
  {
   "cell_type": "markdown",
   "metadata": {},
   "source": [
    "The function returns the covariance matrix too, whose diagonal values are the variances of the parameters. Taking their square root we can calculate the standard errors."
   ]
  },
  {
   "cell_type": "code",
   "execution_count": null,
   "metadata": {},
   "outputs": [],
   "source": [
    "errors = [np.sqrt(pcov[i][i]) for i in [0,1,2]]\n",
    "errors"
   ]
  },
  {
   "cell_type": "markdown",
   "metadata": {},
   "source": [
    "Considering the errors above:\n",
    "\n",
    "- The expected **number of infected people** at infection end is $205566 \\pm 2038$.\n",
    "- The **infection peak** is expected around **april 20**\n",
    "- The **expected infection end** can be calculated as that particular day at which the cumulative infected people count is equal to the $c$ parameter rounded to the nearest integer."
   ]
  },
  {
   "cell_type": "markdown",
   "metadata": {},
   "source": [
    "To numerically find the root of the equation that defines the infection end day:"
   ]
  },
  {
   "cell_type": "code",
   "execution_count": null,
   "metadata": {},
   "outputs": [],
   "source": [
    "from scipy.optimize import fsolve\n",
    "\n",
    "sol = int(fsolve(lambda x : logistic(x,popt[0],popt[1],popt[2]) - int(popt[2]),popt[1]))"
   ]
  },
  {
   "cell_type": "code",
   "execution_count": null,
   "metadata": {},
   "outputs": [],
   "source": [
    "import datetime\n",
    "italy_growth.iloc[0]['Date'] + datetime.timedelta(days=sol)"
   ]
  },
  {
   "cell_type": "code",
   "execution_count": null,
   "metadata": {},
   "outputs": [],
   "source": [
    "fig = go.Figure(go.Scatter(x=italy_growth.index, y=italy_growth['Total Confirmed Cases'],\n",
    "                    text=italy_growth['Total Confirmed Cases'],\n",
    "                    mode='markers',                    \n",
    "                    line=dict(color=chartcol,width=2),\n",
    "                    textposition='top left',\n",
    "                    name='Total confirmed cases'))\n",
    "fig.update_layout(title_text='Total confirmed cases in Italy over time')\n",
    "fig.update_yaxes(showticklabels=False)\n",
    "\n",
    "trace2 = go.Scatter(\n",
    "                    x=xx,\n",
    "                    y=yy,\n",
    "                    mode='lines',\n",
    "                    line=dict(color='mediumblue', width=2),\n",
    "                    name='Logistic Fit'\n",
    "                  )\n",
    "\n",
    "fig.add_trace(trace2)\n",
    "fig.show()"
   ]
  },
  {
   "cell_type": "markdown",
   "metadata": {},
   "source": [
    "The following chart shows active cases, recoveries and deaths."
   ]
  },
  {
   "cell_type": "code",
   "execution_count": null,
   "metadata": {},
   "outputs": [],
   "source": [
    "italy_details = country_consolidated.loc['Italy'].reset_index().set_index('Date')\n",
    "italy_details = italy_details[italy_details.ne(0)].dropna().reset_index()\n",
    "\n",
    "italy_details.head(10)"
   ]
  },
  {
   "cell_type": "code",
   "execution_count": null,
   "metadata": {},
   "outputs": [],
   "source": [
    "fig = go.Figure(data=[\n",
    "    go.Bar(name='Active cases', x=italy_details['Date'], y=italy_details['Active Cases']),\n",
    "    go.Bar(name='Deaths', x=italy_details['Date'], y=italy_details['Total Deaths']),\n",
    "    go.Bar(name='Recoveries', x=italy_details['Date'], y=italy_details['Total Recoveries'])\n",
    "])\n",
    "# Change the bar mode\n",
    "fig.update_layout(title_text='Active cases, deaths and recoveries')\n",
    "fig.update_layout(barmode='stack')\n",
    "fig.show()"
   ]
  },
  {
   "cell_type": "code",
   "execution_count": null,
   "metadata": {},
   "outputs": [],
   "source": [
    "fig = go.Figure(data=[\n",
    "    go.Scatter(name='Daily New Cases', x=italy_details['Date'], y=italy_details['Daily New Cases'], mode='lines+markers'),\n",
    "    go.Scatter(name='Daily New Deaths', x=italy_details['Date'], y=italy_details['Daily New Deaths'], mode='lines+markers'),\n",
    "    go.Scatter(name='Daily New Recoveries', x=italy_details['Date'], y=italy_details['Daily New Recoveries'], mode='lines+markers')\n",
    "])\n",
    "\n",
    "# Change the bar mode\n",
    "fig.update_layout(title_text='Daily Growth')\n",
    "fig.show()"
   ]
  },
  {
   "cell_type": "markdown",
   "metadata": {},
   "source": [
    "The following chart illustrates how the cases are closed with recoveries. In other words, it represents the perentage of cases of infections for which the outcome is positive over the total:\n",
    "\n",
    "$$\n",
    "\\textit{Share of Recoveries - closed cases} = \\frac{\\textit{Recoveries}}{\\textit{Recoveries} + \\textit{Deaths}}\n",
    "$$"
   ]
  },
  {
   "cell_type": "code",
   "execution_count": null,
   "metadata": {},
   "outputs": [],
   "source": [
    "fig = go.Figure(go.Bar(x=italy_details['Date'], y=italy_details['Share of Recoveries - Closed Cases'],\n",
    "                      text=italy_details['Share of Recoveries - Closed Cases'],\n",
    "            textposition='outside'))\n",
    "fig.update_layout(title_text='Share of Recoveries - Closed Cases')\n",
    "fig.update_yaxes(showticklabels=False)\n",
    "\n",
    "fig.show()"
   ]
  },
  {
   "cell_type": "markdown",
   "metadata": {},
   "source": [
    "## Analysis of Italy's cases by province"
   ]
  },
  {
   "cell_type": "markdown",
   "metadata": {},
   "source": [
    "Italy's Civil Protection Department collects detailed data about the pandemic, coming from the entire geographic territory. The data are organized according to regions and provinces. In the following, some further details regarding the different provinces are analyzed according to the same approach conducted so far. The source can be found at this [link](https://github.com/pcm-dpc/COVID-19)."
   ]
  },
  {
   "cell_type": "code",
   "execution_count": null,
   "metadata": {},
   "outputs": [],
   "source": [
    "## Read Data from Civil Protection Department repository\n",
    "dpc_province_raw = pd.read_json('https://raw.githubusercontent.com/pcm-dpc/COVID-19/master/dati-json/dpc-covid19-ita-province.json')\n",
    "dpc_province_raw.head(10)"
   ]
  },
  {
   "cell_type": "markdown",
   "metadata": {},
   "source": [
    "### Field Description\n",
    "\n",
    "- **data**: Reference date.\n",
    "- **stato**: Always ITA for Italy.\n",
    "- **codice_regione**: Region's id.\n",
    "- **denominazione_regione**: Name of the region.\n",
    "- **codice_provincia**: Province's id.\n",
    "- **denominazione_provincia**: Name of the province.\n",
    "- **sigla_provincia**: Short code to represent the province.\n",
    "- **lat**: Latitude of a reference point inside the province's territory.\n",
    "- **long**: Longitude of a reference point inside the province's territory.\n",
    "- **totale_casi**: Number of cases."
   ]
  },
  {
   "cell_type": "markdown",
   "metadata": {},
   "source": [
    "The following code is used to clean and re-organize the data."
   ]
  },
  {
   "cell_type": "code",
   "execution_count": null,
   "metadata": {},
   "outputs": [],
   "source": [
    "dpc_province = dpc_province_raw.set_index(['codice_provincia', 'data'])\n",
    "dpc_province.index = dpc_province.index.set_levels([dpc_province.index.levels[0], pd.to_datetime(dpc_province.index.levels[1])])\n",
    "dpc_province = dpc_province.sort_values(['codice_provincia','data'], ascending = True)"
   ]
  },
  {
   "cell_type": "code",
   "execution_count": null,
   "metadata": {},
   "outputs": [],
   "source": [
    "dpc_province.head(10)"
   ]
  },
  {
   "cell_type": "markdown",
   "metadata": {},
   "source": [
    "An example for Milan and Bergamo areas."
   ]
  },
  {
   "cell_type": "code",
   "execution_count": null,
   "metadata": {},
   "outputs": [],
   "source": [
    "dpc_milan = dpc_province.loc[15]['totale_casi'].reset_index().set_index('data')\n",
    "dpc_bergamo = dpc_province.loc[16]['totale_casi'].reset_index().set_index('data')"
   ]
  },
  {
   "cell_type": "code",
   "execution_count": null,
   "metadata": {},
   "outputs": [],
   "source": [
    "dpc_milan.head(10)"
   ]
  },
  {
   "cell_type": "code",
   "execution_count": null,
   "metadata": {},
   "outputs": [],
   "source": [
    "fig = go.Figure(data=[\n",
    "            go.Bar(name='Cases in Milan area', x=dpc_milan.index, y=dpc_milan['totale_casi']),\n",
    "            go.Bar(name='Cases in Bergamo area', x=dpc_bergamo.index, y=dpc_bergamo['totale_casi'])\n",
    "        ])\n",
    "fig.update_layout(title_text='Total cases for Milan and Bergamo areas')\n",
    "fig.update_layout(barmode='group')\n",
    "fig.update_yaxes(showticklabels=False)\n",
    "\n",
    "fig.show()"
   ]
  },
  {
   "cell_type": "code",
   "execution_count": null,
   "metadata": {},
   "outputs": [],
   "source": [
    "tot_provinces = dpc_province.max(level=0)[['denominazione_provincia','totale_casi']].reset_index().set_index('codice_provincia')\n",
    "tot_provinces = tot_provinces[tot_provinces['denominazione_provincia'] != \"In fase di definizione/aggiornamento\"]\n",
    "tot_provinces = tot_provinces.sort_values(by='totale_casi',ascending=False)\n",
    "tot_provinces_top30 = tot_provinces.head(30)"
   ]
  },
  {
   "cell_type": "code",
   "execution_count": null,
   "metadata": {},
   "outputs": [],
   "source": [
    "fig = go.Figure(data=[\n",
    "            go.Bar(name='Cases by provinces', \n",
    "                   x=tot_provinces_top30['denominazione_provincia'], \n",
    "                   y=tot_provinces_top30['totale_casi'],)\n",
    "        ])\n",
    "fig.update_layout(title_text='Total cases by provinces')\n",
    "fig.update_yaxes(showticklabels=False)\n",
    "\n",
    "fig.show()"
   ]
  },
  {
   "cell_type": "markdown",
   "metadata": {},
   "source": [
    "## Swab Testing"
   ]
  },
  {
   "cell_type": "markdown",
   "metadata": {},
   "source": [
    "We use a different file to get more insights on the whole national trend, e.g. the number of swabs tested vs the total number of positive cases."
   ]
  },
  {
   "cell_type": "code",
   "execution_count": null,
   "metadata": {},
   "outputs": [],
   "source": [
    "## Read data regarding the national trend\n",
    "dpc_national_trend_raw = pd.read_json('https://raw.githubusercontent.com/pcm-dpc/COVID-19/master/dati-json/dpc-covid19-ita-andamento-nazionale.json')\n",
    "dpc_national_trend_raw.set_index('data')\n",
    "dpc_national_trend = dpc_national_trend_raw.drop(columns=['stato'])\n",
    "dpc_national_trend['percentuale_tamponi_positivi'] = np.round(dpc_national_trend['totale_casi'] / dpc_national_trend['tamponi'], 3)\n",
    "\n",
    "dpc_national_trend.head(10)"
   ]
  },
  {
   "cell_type": "code",
   "execution_count": null,
   "metadata": {},
   "outputs": [],
   "source": [
    "fig = go.Figure(data=[\n",
    "    go.Scatter(name='Cases', x=dpc_national_trend['data'], y=dpc_national_trend['totale_casi'], mode='lines+markers'),\n",
    "    go.Scatter(name='Swabs', x=dpc_national_trend['data'], y=dpc_national_trend['tamponi'], mode='lines+markers')\n",
    "])\n",
    "\n",
    "# Change the bar mode\n",
    "fig.update_layout(title_text='Total Number of swabs vs Total number of cases')\n",
    "fig.show()"
   ]
  },
  {
   "cell_type": "code",
   "execution_count": null,
   "metadata": {},
   "outputs": [],
   "source": [
    "fig = go.Figure(go.Bar(x=dpc_national_trend['data'], y=dpc_national_trend['percentuale_tamponi_positivi'],\n",
    "                      text=dpc_national_trend['percentuale_tamponi_positivi'],\n",
    "            textposition='outside'))\n",
    "fig.update_layout(title_text='Share of Positive Swabs')\n",
    "fig.update_yaxes(showticklabels=False)\n",
    "\n",
    "fig.show()"
   ]
  },
  {
   "cell_type": "markdown",
   "metadata": {},
   "source": [
    "## Italy regions"
   ]
  },
  {
   "cell_type": "markdown",
   "metadata": {},
   "source": [
    "In the following, I'm creating a new dataframe grouping data by regions and resampling by weeks."
   ]
  },
  {
   "cell_type": "code",
   "execution_count": null,
   "metadata": {},
   "outputs": [],
   "source": [
    "dpc_regions = pd.read_csv('https://raw.githubusercontent.com/pcm-dpc/COVID-19/master/dati-regioni/dpc-covid19-ita-regioni.csv')\n",
    "dpc_regions['data'] = pd.to_datetime(dpc_regions['data'])\n",
    "dpc_regions = dpc_regions.groupby(['denominazione_regione', pd.Grouper(key='data', freq='W-MON')])['totale_positivi'].last().reset_index().sort_values('data')\n",
    "dpc_regions = dpc_regions.rename(columns={'denominazione_regione':'regione'})\n",
    "dpc_regions[\"data\"] = dpc_regions[\"data\"].dt.strftime(\"%y-%m-%d\")\n",
    "\n",
    "dpc_regions.tail(20)\n"
   ]
  },
  {
   "cell_type": "code",
   "execution_count": null,
   "metadata": {},
   "outputs": [],
   "source": [
    "from urllib.request import urlopen\n",
    "import json\n",
    "with urlopen('https://gist.githubusercontent.com/datajournalism-it/48e29e7c87dca7eb1d29/raw/2636aeef92ba0770a073424853f37690064eb0ea/regioni.geojson') as response:\n",
    "    regions_geojson = json.load(response)\n",
    "\n",
    "regions_geojson[\"features\"][0].keys()"
   ]
  },
  {
   "cell_type": "code",
   "execution_count": null,
   "metadata": {},
   "outputs": [],
   "source": [
    "fig = px.choropleth(dpc_regions, geojson=regions_geojson, \n",
    "                           locations='regione',\n",
    "                           featureidkey='properties.NOME_REG',\n",
    "                           animation_frame='data',\n",
    "                           projection=\"mercator\",\n",
    "                           color='totale_positivi',\n",
    "                           color_continuous_scale=\"Reds\",\n",
    "                           range_color=(0, 30000),\n",
    "                           labels={'totale_positivi':'Total cases'},\n",
    "                          )\n",
    "\n",
    "fig.update_geos(fitbounds=\"locations\", visible=False)\n",
    "fig.update_layout(margin={\"r\":0,\"t\":0,\"l\":0,\"b\":0})\n",
    "fig.show()"
   ]
  },
  {
   "cell_type": "markdown",
   "metadata": {},
   "source": [
    "## References"
   ]
  },
  {
   "cell_type": "markdown",
   "metadata": {},
   "source": [
    "- [https://towardsdatascience.com/visualizing-the-coronavirus-pandemic-with-choropleth-maps-7f30fccaecf5](https://towardsdatascience.com/visualizing-the-coronavirus-pandemic-with-choropleth-maps-7f30fccaecf5)\n",
    "- [https://medium.com/@justintodata/what-is-the-coronavirus-death-rate-with-hyperparameter-tuning-315235a4444c](https://medium.com/@justintodata/what-is-the-coronavirus-death-rate-with-hyperparameter-tuning-315235a4444c)\n",
    "- [https://towardsdatascience.com/covid-19-infection-in-italy-mathematical-models-and-predictions-7784b4d7dd8d](https://towardsdatascience.com/covid-19-infection-in-italy-mathematical-models-and-predictions-7784b4d7dd8d)\n",
    "- [https://towardsdatascience.com/cord-19-the-data-science-response-to-covid-19-46d57ab811f3](https://towardsdatascience.com/cord-19-the-data-science-response-to-covid-19-46d57ab811f3)\n",
    "- [https://towardsdatascience.com/gather-all-the-coronavirus-data-with-python-19aa22167dea](https://towardsdatascience.com/gather-all-the-coronavirus-data-with-python-19aa22167dea)\n",
    "- [https://towardsdatascience.com/analyzing-coronavirus-covid-19-data-using-pandas-and-plotly-2e34fe2c4edc](https://towardsdatascience.com/analyzing-coronavirus-covid-19-data-using-pandas-and-plotly-2e34fe2c4edc)"
   ]
  }
 ],
 "metadata": {
  "kernelspec": {
   "display_name": "Python 3",
   "language": "python",
   "name": "python3"
  },
  "language_info": {
   "codemirror_mode": {
    "name": "ipython",
    "version": 3
   },
   "file_extension": ".py",
   "mimetype": "text/x-python",
   "name": "python",
   "nbconvert_exporter": "python",
   "pygments_lexer": "ipython3",
   "version": "3.7.3"
  }
 },
 "nbformat": 4,
 "nbformat_minor": 2
}
